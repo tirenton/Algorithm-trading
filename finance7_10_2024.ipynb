{
  "cells": [
    {
      "cell_type": "code",
      "execution_count": 3,
      "metadata": {
        "colab": {
          "base_uri": "https://localhost:8080/"
        },
        "id": "-h1GQNCI1QBD",
        "outputId": "72629702-8d7a-4efd-ccdf-2b94f65764f0"
      },
      "outputs": [
        {
          "name": "stdout",
          "output_type": "stream",
          "text": [
            "                 Open       High        Low      Close  Adj Close     Volume\n",
            "Date                                                                        \n",
            "2018-01-02  42.540001  43.075001  42.314999  43.064999  40.568928  102223600\n",
            "2018-01-03  43.132500  43.637501  42.990002  43.057499  40.561859  118071600\n",
            "2018-01-04  43.134998  43.367500  43.020000  43.257500  40.750267   89738400\n",
            "2018-01-05  43.360001  43.842499  43.262501  43.750000  41.214226   94640000\n",
            "2018-01-08  43.587502  43.902500  43.482498  43.587502  41.061150   82271200\n"
          ]
        }
      ],
      "source": [
        "import backtrader as bt\n",
        "import pandas as pd\n",
        "import matplotlib.pyplot as plt\n",
        "\n",
        "%matplotlib inline\n",
        "\n",
        "# Load CSV data into Pandas\n",
        "csv_file = 'AAPL_5year.csv'\n",
        "\n",
        "data = pd.read_csv(csv_file, parse_dates=True, index_col='Date')\n",
        "\n",
        "print(data.head())"
      ]
    },
    {
      "cell_type": "code",
      "execution_count": 4,
      "metadata": {
        "id": "8wb3KAHE1_MJ"
      },
      "outputs": [],
      "source": [
        "class MovingAverageCrossover(bt.Strategy):\n",
        "  params = (('short_period',5),('long_period',20)) # define 5 days is short-period , 20 days is long-pediod\n",
        "\n",
        "  def __init__(self):\n",
        "    self.sma_short = bt.indicators.SimpleMovingAverage(self.data.close, period=self.params.short_period) # calculate sma by closing price\n",
        "    self.sma_long =  bt.indicators.SimpleMovingAverage(self.data.close, period=self.params.long_period)\n",
        "\n",
        "  def next(self):\n",
        "    if self.sma_short > self.sma_long and not self.position:\n",
        "      self.buy(size=100) # enter long position\n",
        "    elif self.sma_short < self.sma_long and self.position:\n",
        "      self.sell(size=100) # exit position\n"
      ]
    },
    {
      "cell_type": "code",
      "execution_count": 5,
      "metadata": {
        "id": "_ajZuYwf5AIA"
      },
      "outputs": [],
      "source": [
        "cerebro = bt.Cerebro() # connect with cerebro"
      ]
    },
    {
      "cell_type": "code",
      "execution_count": 6,
      "metadata": {
        "id": "WMdKAtYX5vV3"
      },
      "outputs": [],
      "source": [
        "# make data to feed cerebro\n",
        "# use pandas because we can use with data from yahoofinance , interactive broker if we want.\n",
        "data_feed = bt.feeds.PandasData(dataname=data)"
      ]
    },
    {
      "cell_type": "code",
      "execution_count": 7,
      "metadata": {
        "colab": {
          "base_uri": "https://localhost:8080/"
        },
        "id": "ApbV0wKl6LC0",
        "outputId": "40110e7c-34eb-48c5-a9c4-0f8c1ebf3a29"
      },
      "outputs": [
        {
          "data": {
            "text/plain": [
              "<backtrader.feeds.pandafeed.PandasData at 0x2444af9ec60>"
            ]
          },
          "execution_count": 7,
          "metadata": {},
          "output_type": "execute_result"
        }
      ],
      "source": [
        "data_feed\n"
      ]
    },
    {
      "cell_type": "code",
      "execution_count": 8,
      "metadata": {
        "colab": {
          "base_uri": "https://localhost:8080/"
        },
        "id": "umuxlPSx6RCU",
        "outputId": "a66b4050-5cc7-4859-db93-12c0ae0c5dbc"
      },
      "outputs": [
        {
          "data": {
            "text/plain": [
              "0"
            ]
          },
          "execution_count": 8,
          "metadata": {},
          "output_type": "execute_result"
        }
      ],
      "source": [
        "cerebro.adddata(data_feed)\n",
        "cerebro.addstrategy(MovingAverageCrossover)"
      ]
    },
    {
      "cell_type": "code",
      "execution_count": 9,
      "metadata": {
        "colab": {
          "base_uri": "https://localhost:8080/"
        },
        "id": "Y8OibDQ86tdU",
        "outputId": "b1370985-ded6-4cc0-c32c-9d9b9dd9ee02"
      },
      "outputs": [
        {
          "data": {
            "text/plain": [
              "[<__main__.MovingAverageCrossover at 0x2444b17dfd0>]"
            ]
          },
          "execution_count": 9,
          "metadata": {},
          "output_type": "execute_result"
        }
      ],
      "source": [
        "cerebro.run()"
      ]
    },
    {
      "cell_type": "code",
      "execution_count": 10,
      "metadata": {
        "colab": {
          "base_uri": "https://localhost:8080/",
          "height": 491
        },
        "id": "NuacXlDm6va0",
        "outputId": "b3eed393-4211-456d-d878-01ce05b02d6d"
      },
      "outputs": [
        {
          "name": "stderr",
          "output_type": "stream",
          "text": [
            "e:\\Python\\Lib\\site-packages\\backtrader\\cerebro.py:665: SyntaxWarning: invalid escape sequence '\\*'\n",
            "  '''Adds a callback to get messages which would be handled by the\n",
            "e:\\Python\\Lib\\site-packages\\backtrader\\cerebro.py:707: SyntaxWarning: invalid escape sequence '\\*'\n",
            "  '''Adds a callback to get messages which would be handled by the\n"
          ]
        },
        {
          "ename": "ImportError",
          "evalue": "cannot import name 'warnings' from 'matplotlib.dates' (e:\\Python\\Lib\\site-packages\\matplotlib\\dates.py)",
          "output_type": "error",
          "traceback": [
            "\u001b[1;31m---------------------------------------------------------------------------\u001b[0m",
            "\u001b[1;31mImportError\u001b[0m                               Traceback (most recent call last)",
            "Cell \u001b[1;32mIn[10], line 1\u001b[0m\n\u001b[1;32m----> 1\u001b[0m \u001b[43mcerebro\u001b[49m\u001b[38;5;241;43m.\u001b[39;49m\u001b[43mplot\u001b[49m\u001b[43m(\u001b[49m\u001b[43miplot\u001b[49m\u001b[38;5;241;43m=\u001b[39;49m\u001b[38;5;28;43;01mFalse\u001b[39;49;00m\u001b[43m)\u001b[49m\n\u001b[0;32m      2\u001b[0m plt\u001b[38;5;241m.\u001b[39mshow()\n",
            "File \u001b[1;32me:\\Python\\Lib\\site-packages\\backtrader\\cerebro.py:974\u001b[0m, in \u001b[0;36mCerebro.plot\u001b[1;34m(self, plotter, numfigs, iplot, start, end, width, height, dpi, tight, use, **kwargs)\u001b[0m\n\u001b[0;32m    971\u001b[0m     \u001b[38;5;28;01mreturn\u001b[39;00m\n\u001b[0;32m    973\u001b[0m \u001b[38;5;28;01mif\u001b[39;00m \u001b[38;5;129;01mnot\u001b[39;00m plotter:\n\u001b[1;32m--> 974\u001b[0m     \u001b[38;5;28;01mfrom\u001b[39;00m \u001b[38;5;21;01m.\u001b[39;00m \u001b[38;5;28;01mimport\u001b[39;00m plot\n\u001b[0;32m    975\u001b[0m     \u001b[38;5;28;01mif\u001b[39;00m \u001b[38;5;28mself\u001b[39m\u001b[38;5;241m.\u001b[39mp\u001b[38;5;241m.\u001b[39moldsync:\n\u001b[0;32m    976\u001b[0m         plotter \u001b[38;5;241m=\u001b[39m plot\u001b[38;5;241m.\u001b[39mPlot_OldSync(\u001b[38;5;241m*\u001b[39m\u001b[38;5;241m*\u001b[39mkwargs)\n",
            "File \u001b[1;32me:\\Python\\Lib\\site-packages\\backtrader\\plot\\__init__.py:33\u001b[0m\n\u001b[0;32m     29\u001b[0m \u001b[38;5;28;01melse\u001b[39;00m:\n\u001b[0;32m     30\u001b[0m     matplotlib\u001b[38;5;241m.\u001b[39muse(\u001b[38;5;124m'\u001b[39m\u001b[38;5;124mTkAgg\u001b[39m\u001b[38;5;124m'\u001b[39m)\n\u001b[1;32m---> 33\u001b[0m \u001b[38;5;28;01mfrom\u001b[39;00m \u001b[38;5;21;01m.\u001b[39;00m\u001b[38;5;21;01mplot\u001b[39;00m \u001b[38;5;28;01mimport\u001b[39;00m Plot, Plot_OldSync\n\u001b[0;32m     34\u001b[0m \u001b[38;5;28;01mfrom\u001b[39;00m \u001b[38;5;21;01m.\u001b[39;00m\u001b[38;5;21;01mscheme\u001b[39;00m \u001b[38;5;28;01mimport\u001b[39;00m PlotScheme\n",
            "File \u001b[1;32me:\\Python\\Lib\\site-packages\\backtrader\\plot\\plot.py:44\u001b[0m\n\u001b[0;32m     42\u001b[0m \u001b[38;5;28;01mfrom\u001b[39;00m \u001b[38;5;21;01m.\u001b[39;00m\u001b[38;5;21;01mfinance\u001b[39;00m \u001b[38;5;28;01mimport\u001b[39;00m plot_candlestick, plot_ohlc, plot_volume, plot_lineonclose\n\u001b[0;32m     43\u001b[0m \u001b[38;5;28;01mfrom\u001b[39;00m \u001b[38;5;21;01m.\u001b[39;00m\u001b[38;5;21;01mformatters\u001b[39;00m \u001b[38;5;28;01mimport\u001b[39;00m (MyVolFormatter, MyDateFormatter, getlocator)\n\u001b[1;32m---> 44\u001b[0m \u001b[38;5;28;01mfrom\u001b[39;00m \u001b[38;5;21;01m.\u001b[39;00m \u001b[38;5;28;01mimport\u001b[39;00m locator \u001b[38;5;28;01mas\u001b[39;00m loc\n\u001b[0;32m     45\u001b[0m \u001b[38;5;28;01mfrom\u001b[39;00m \u001b[38;5;21;01m.\u001b[39;00m\u001b[38;5;21;01mmulticursor\u001b[39;00m \u001b[38;5;28;01mimport\u001b[39;00m MultiCursor\n\u001b[0;32m     46\u001b[0m \u001b[38;5;28;01mfrom\u001b[39;00m \u001b[38;5;21;01m.\u001b[39;00m\u001b[38;5;21;01mscheme\u001b[39;00m \u001b[38;5;28;01mimport\u001b[39;00m PlotScheme\n",
            "File \u001b[1;32me:\\Python\\Lib\\site-packages\\backtrader\\plot\\locator.py:35\u001b[0m\n\u001b[0;32m     32\u001b[0m \u001b[38;5;28;01mfrom\u001b[39;00m \u001b[38;5;21;01mmatplotlib\u001b[39;00m\u001b[38;5;21;01m.\u001b[39;00m\u001b[38;5;21;01mdates\u001b[39;00m \u001b[38;5;28;01mimport\u001b[39;00m RRuleLocator \u001b[38;5;28;01mas\u001b[39;00m RRLocator\n\u001b[0;32m     33\u001b[0m \u001b[38;5;28;01mfrom\u001b[39;00m \u001b[38;5;21;01mmatplotlib\u001b[39;00m\u001b[38;5;21;01m.\u001b[39;00m\u001b[38;5;21;01mdates\u001b[39;00m \u001b[38;5;28;01mimport\u001b[39;00m AutoDateFormatter \u001b[38;5;28;01mas\u001b[39;00m ADFormatter\n\u001b[1;32m---> 35\u001b[0m \u001b[38;5;28;01mfrom\u001b[39;00m \u001b[38;5;21;01mmatplotlib\u001b[39;00m\u001b[38;5;21;01m.\u001b[39;00m\u001b[38;5;21;01mdates\u001b[39;00m \u001b[38;5;28;01mimport\u001b[39;00m (HOURS_PER_DAY, MIN_PER_HOUR, SEC_PER_MIN,\n\u001b[0;32m     36\u001b[0m                               MONTHS_PER_YEAR, DAYS_PER_WEEK,\n\u001b[0;32m     37\u001b[0m                               SEC_PER_HOUR, SEC_PER_DAY,\n\u001b[0;32m     38\u001b[0m                               num2date, rrulewrapper, YearLocator,\n\u001b[0;32m     39\u001b[0m                               MicrosecondLocator, warnings)\n\u001b[0;32m     41\u001b[0m \u001b[38;5;28;01mfrom\u001b[39;00m \u001b[38;5;21;01mdateutil\u001b[39;00m\u001b[38;5;21;01m.\u001b[39;00m\u001b[38;5;21;01mrelativedelta\u001b[39;00m \u001b[38;5;28;01mimport\u001b[39;00m relativedelta\n\u001b[0;32m     42\u001b[0m \u001b[38;5;28;01mimport\u001b[39;00m \u001b[38;5;21;01mnumpy\u001b[39;00m \u001b[38;5;28;01mas\u001b[39;00m \u001b[38;5;21;01mnp\u001b[39;00m\n",
            "\u001b[1;31mImportError\u001b[0m: cannot import name 'warnings' from 'matplotlib.dates' (e:\\Python\\Lib\\site-packages\\matplotlib\\dates.py)"
          ]
        }
      ],
      "source": [
        "cerebro.plot(iplot=False)\n",
        "plt.show()"
      ]
    },
    {
      "cell_type": "code",
      "execution_count": 27,
      "metadata": {
        "id": "Ty3nvBAZ7qW-"
      },
      "outputs": [],
      "source": []
    }
  ],
  "metadata": {
    "colab": {
      "provenance": []
    },
    "kernelspec": {
      "display_name": "Python 3",
      "name": "python3"
    },
    "language_info": {
      "codemirror_mode": {
        "name": "ipython",
        "version": 3
      },
      "file_extension": ".py",
      "mimetype": "text/x-python",
      "name": "python",
      "nbconvert_exporter": "python",
      "pygments_lexer": "ipython3",
      "version": "3.12.4"
    }
  },
  "nbformat": 4,
  "nbformat_minor": 0
}
