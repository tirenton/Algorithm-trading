{
 "cells": [
  {
   "cell_type": "code",
   "execution_count": 11,
   "metadata": {},
   "outputs": [
    {
     "name": "stdout",
     "output_type": "stream",
     "text": [
      "Data for Apple saved successfully to fetch\\Apple_stock.json.\n",
      "Data for Amazon saved successfully to fetch\\Amazon_stock.json.\n",
      "Data for Sony saved successfully to fetch\\Sony_stock.json.\n",
      "Data for Netflix saved successfully to fetch\\Netflix_stock.json.\n"
     ]
    }
   ],
   "source": [
    "import requests\n",
    "import json\n",
    "import os\n",
    "\n",
    "# Your API key\n",
    "api_key = \"4LTTgFF_iVHACyGC3ofVdpyz5XwWNAsX\"\n",
    "\n",
    "# Array of ticker symbols and their corresponding names\n",
    "arr = [\"AAPL\", \"AMZN\", \"NFLX\", \"GOOGL \", \"Sony\"]\n",
    "arrf = [\"Apple\", \"Amazon\", \"Netflix\", \"Google \", \"Sony\"]\n",
    "\n",
    "# Specify the folder path relative to the current working directory\n",
    "folder_path = 'fetch'\n",
    "\n",
    "# Create the folder if it doesn't exist\n",
    "os.makedirs(folder_path, exist_ok=True)\n",
    "\n",
    "for i in range(len(arr)):\n",
    "    # Ticker symbol and URL\n",
    "    ticker = arr[i]\n",
    "    url = f\"https://api.polygon.io/v2/aggs/ticker/{ticker}/range/1/day/2020-01-01/2024-09-15?adjusted=true&sort=asc\"\n",
    "\n",
    "    # Parameters\n",
    "    params = {\n",
    "        \"apiKey\": api_key\n",
    "    }\n",
    "\n",
    "    # Make the GET request\n",
    "    response = requests.get(url, params=params)\n",
    "\n",
    "    # Check if the request was successful\n",
    "    if response.status_code == 200:\n",
    "        # Parse the JSON data\n",
    "        data = response.json()\n",
    "        # Save the data to a file in the 'fetch' folder\n",
    "        file_path = os.path.join(folder_path, f'{arrf[i]}_stock.json')\n",
    "        with open(file_path, 'w') as f:\n",
    "            json.dump(data, f, indent=4)\n",
    "        print(f\"Data for {arrf[i]} saved successfully to {file_path}.\")\n",
    "    else:\n",
    "        print(f\"Error for {arrf[i]}: {response.status_code} - {response.text}\")\n"
   ]
  },
  {
   "cell_type": "code",
   "execution_count": 8,
   "metadata": {},
   "outputs": [],
   "source": [
    "\n"
   ]
  }
 ],
 "metadata": {
  "kernelspec": {
   "display_name": "Python 3",
   "language": "python",
   "name": "python3"
  },
  "language_info": {
   "codemirror_mode": {
    "name": "ipython",
    "version": 3
   },
   "file_extension": ".py",
   "mimetype": "text/x-python",
   "name": "python",
   "nbconvert_exporter": "python",
   "pygments_lexer": "ipython3",
   "version": "3.12.4"
  }
 },
 "nbformat": 4,
 "nbformat_minor": 2
}
